{
 "metadata": {
  "language_info": {
   "codemirror_mode": {
    "name": "ipython",
    "version": 3
   },
   "file_extension": ".py",
   "mimetype": "text/x-python",
   "name": "python",
   "nbconvert_exporter": "python",
   "pygments_lexer": "ipython3",
   "version": "3.8.5-final"
  },
  "orig_nbformat": 2,
  "kernelspec": {
   "name": "python3",
   "display_name": "Python 3.8.5 64-bit (conda)",
   "metadata": {
    "interpreter": {
     "hash": "6a267008990d7b3f1d3ebce10cbcacbf117079c8bfe3a065af3a14fc1c0ce961"
    }
   }
  }
 },
 "nbformat": 4,
 "nbformat_minor": 2,
 "cells": [
  {
   "cell_type": "code",
   "execution_count": 39,
   "metadata": {
    "tags": []
   },
   "outputs": [],
   "source": [
    "import twint\n",
    "import nest_asyncio\n",
    "import pandas as pd\n",
    "import re\n",
    "import pickle\n",
    "nest_asyncio.apply()"
   ]
  },
  {
   "source": [
    "# Extract tweets using TWINT"
   ],
   "cell_type": "markdown",
   "metadata": {}
  },
  {
   "cell_type": "code",
   "execution_count": 40,
   "metadata": {
    "tags": [
     "outputPrepend"
    ]
   },
   "outputs": [
    {
     "output_type": "stream",
     "name": "stdout",
     "text": [
      "Erupts> @BenBonnema Total lack of awareness as to what is going on in other Trader Joe Stores. Mask protests continue as coronavirus cases surge with one leading a California Trader Joe's to close early  https://t.co/lUU4lNeusH via @usatoday\n1365711336475394052 2021-02-27 18:12:10 +0100 <ColemoiHK> Opening of the #TheIndiaToyFair2021 #today, probably the first virtual #toysfair worldwide due to #coronavirus  Register and visit  https://t.co/7BRAN275PO  And do not forget to visit  https://t.co/VmeaMtP7Jk in order to check what is new by us.  😉  #toybiz #toyindustry #business\n1365710352957247488 2021-02-27 18:08:16 +0100 <phieesert> @Lukolmsol Yes, and it's because I know it's not coronavirus, I know what is wrong with me, it's just that the medications I'm taking doesn't seem to cure it and it's frustrating 🥺🥺\n1365707752748822531 2021-02-27 17:57:56 +0100 <Killing87152220> what is even more baffling is, that UK Community Production Ltd. had the masks tested by the 20/30 Labs for the bacterial filtration efficacy who used #StephylococcusAureus ATCC6538- a bacteria with the size of 1 micrometer to try to prove that it is suitable to stop coronavirus  https://t.co/4DJgns27XA\n1365707118570049537 2021-02-27 17:55:25 +0100 <marylui27> Coronavirus: What is the procedure for vaccination of the elderly and how long will the vaccine be available ... -  https://t.co/SZQ0Sa5IDh  https://t.co/wz8BMbWlQk\n1365703742855733250 2021-02-27 17:42:00 +0100 <sullenhighstar> Hey there, got a scenario if you’re interested! In the scenario the singer Rita Ora has broken coronavirus rules … — WHAT IS THIS  I shoot her down  https://t.co/8jaNOhogHQ\n1365702283573526531 2021-02-27 17:36:12 +0100 <perdidostschool> @NYCMayor @SpeakerPelosi @POTUS @SenSchumer @SenGillibrand NYC is in the frontline of the next wave of coronavirus disease and death. YOU are DIRECTLY responsible for what is coming by pushing NYers to dine out, send their children to schools, etc.   Accountability will come. You can't gaslight death/disease.\n1365697039514927109 2021-02-27 17:15:22 +0100 <MLaFleurBrooks> A Coronavirus Quiz  There is a great deal of discussion about COVID-19. What is the device that helps a person breathe? A ventilator? Perhaps it is a respirator?  Take the full quiz to learn this and more:  https://t.co/V1oNEkl3nD #Healthnews #COVID  https://t.co/YJfY6NEsh4\n1365676573890863105 2021-02-27 15:54:02 +0100 <Margare55040717> @wisconsintexan With coronavirus we never know what is going to happen from day to day. In the U.S. 500,000 people have died from coronavirus. It is very dangerous. It is so hurtful that most of these people die alone in hospitals because the virus is contagious and deadly. It is so sad.\n1365674083346751494 2021-02-27 15:44:09 +0100 <VgOgero> @NzauPriscilla @MOH_Kenya @mutahikagwe_cs @ahmednasirlaw @WehliyeMohamed @makaumutua @MihrThakar @WHO @WHOKenya @MarthaKarua @BernadetteAlic4 Then what is it a respiratory illness or a condition or should we refer it as SARs or the Novel Corona Virus syndrome ?\n1365673617816748033 2021-02-27 15:42:18 +0100 <OneCopaceticCAT> ALL LIES. HERE IS WHAT IS IN THE BILL: Stop lying @RepDLesko. Your partisanship is killing people.   https://t.co/eXtVKNExTS #FactsMatter #AmericanRescuePlan #coronavirus\n1365672928612876291 2021-02-27 15:39:33 +0100 <OneCopaceticCAT> YOU. LIE. @RepDonaldsPress  The #GOP continues to lie to the American people. When they lie, people die. HERE’S WHAT IS IN THE #AmericanRescuePlan :   https://t.co/eXtVKNExTS #FactsMatter #COVID19 #coronavirus\n1365671127562014726 2021-02-27 15:32:24 +0100 <michaelstaine16> @C0vid0 Distancing themselves because they know what is going to emerge in the not so distant future regarding covid19 and this coronavirus I expect.\n1365665326269014018 2021-02-27 15:09:21 +0100 <rizandmilk> A girl called Caitlin has broken coronavirus rules She hates the rules so refuses to pay her fine Caitlin must ei… — SHOW URSELF ANON. WHAT IS GOING ON INSIDE YOUR HEAD 💀  https://t.co/ClgktlS7vh\n1365664924308033537 2021-02-27 15:07:45 +0100 <Angie_RejoinEU> @amidgley @JohnStrawson @Corona_Virus19X What is sterilizing immunity and do we need it for the coronavirus?   https://t.co/PqUXKkL1vD\n1365663032811032588 2021-02-27 15:00:14 +0100 <CoachesHotSeat> Don't forget Vaccines before Desert Storm in 1991 that were Mandatory so no idea how someone serving US Military can avoid getting Corona Virus shot nor is there One Shred of Evidence it's Dangerous for healthy people under 60 to get the Vaccine!  What is this @SecDef @USNavyCNO?  https://t.co/W0shXSR6tj\n1365662030577950720 2021-02-27 14:56:15 +0100 <ianboogiebrown> @DrRosena Says it all really \"We are starting to hear some bizarre autarkic rhetoric, barriers are going up, &amp; when there's a risk that new diseases such as Coronavirus will trigger a panic &amp; a desire for market segregation that go beyond what is medically rational\"  https://t.co/VAkuMwx8zi\n1365657399512731649 2021-02-27 14:37:51 +0100 <kidjo7ie> We have watched thousands of people joke about the boys spreading corona virus all 2020 and we are seeing what is happening to the Asian community. Good thing we reached a breaking point! The silence was no longer an option #Bayern3_racism #Bayern3_Rassismus  #MatuschikOUT\n1365652401018073088 2021-02-27 14:17:59 +0100 <ila_nim> What is life, and are viruses alive? Beautiful piece by @carlzimmer in @nytimes -- The Secret Life of a Coronavirus  https://t.co/3UMQySVKF2\n1365650987600478208 2021-02-27 14:12:22 +0100 <BOB00816327> Some scientists have called for China to release details of all coronavirus samples studied at the lab, to see which most closely resembles SARS-CoV-2, the virus that causes the respiratory disease.  *What is China's response to the request?\n1365649930124070919 2021-02-27 14:08:10 +0100 <PProtonzz> Link :  https://t.co/OhHKFjeDao  What is 5G? | JIO 5G vs Airtel 5G | Should We Buy the 5G Mobiles?  Do Like, Share &amp; Subscribe!  #5g #5ginindia #jio5g #airtel5g #jio #airtel #telecommunications #telecom #covid #wireless #gtechnology #technology #mi #coronavirus #wifi #bhfyp\n1365648136589475841 2021-02-27 14:01:02 +0100 <NosyCrow> What is coronavirus and why is everyone talking about it?  Our coronavirus book for children is a great resource for explaining the pandemic to children, with accessible text and illustrated by Axel Scheffler.  Get a copy here:  https://t.co/N9uc1vJ10A  https://t.co/6DJVZeOsro\n1365647784938926084 2021-02-27 13:59:39 +0100 <PondandAssoc> Always exciting to see what is coming.  “We got very lucky. The two most effective vaccines against the coronavirus are based on messenger RNA, a technology that has been in the works for 20 years. When the covid-19 pandemic began… https://t.co/pMtJtyzeNd  https://t.co/0rGHmkQrbY\n1365645369095450628 2021-02-27 13:50:03 +0100 <BrownCheong> What is the difference when in the very early beginning of Coronavirus, CCP has released  couples thousands of people flying to other countries? What is the purpose in doing that and what is the social responsibility of its country to others?\n1365643704334180358 2021-02-27 13:43:26 +0100 <patgalemckinstr> There is no \"pandemic\".. virus man made like a cold virus. No VAX for corona virus(cold virus) work that's proven. This is \" experimental genetic modifying,\" trial. Doesn't stop virus..will make you test positive forever..still be infectious..What is Point? $$..control..socialism\n1365642200432926721 2021-02-27 13:37:27 +0100 <LindaIhle1> CDC must encourage better ventilation to stop coronavirus spread in schools, experts say - CNN What is your school district doing? ASK!!!  https://t.co/Wesix89U7M\n1365633800403828736 2021-02-27 13:04:04 +0100 <DIntelligently> @TheDailyShow I'm confused, what is Sean Hannity incorrect about? How many US citizens do you think died from Corona Virus at this time last year? Wasn't February 2020 a confusing time for everyone, like literally the whole planet?\n1365631963479109637 2021-02-27 12:56:46 +0100 <ladylloyd69> @NaysayerThe1 @swpolice @WelshGovernment What is the actual point of harassing a homeless man under the corona virus act? He can't very well \"stay home\", can he, if he is homeless? The police are always picking on the vunerable.\n1365628147530665984 2021-02-27 12:41:37 +0100 <njsangel> @laworfiction I think the UK Public Need &amp; Should Be Entitled to a Written (Or Able to Print Off) Weekly Update Relating to the Coronavirus Act in Layman's Terms as to What is Law and What is Guidance for their Own Protection !!\n1365627485275127811 2021-02-27 12:38:59 +0100 <peerb_sameer> @VarshaEGaikwad Last year just for 1 paper left an government of Maharashtra has cancelled that paper due to corona virus, now the same government want student's to appear for all the EXAM, what is the logic behind this can explain @VarshaEGaikwad @CMOMaharashtra @BhaiJagtap1\n1365618329105399808 2021-02-27 12:02:36 +0100 <njsangel> @ClarkeMicah I think the UK Public Need &amp; Should Be Entitled to a Written (Or Able to Print Off) Weekly Update Relating to the Coronavirus Act in Layman's Terms as to What is Law and What is Guidance for their Own Protection !!\n1365617909586878464 2021-02-27 12:00:56 +0100 <njsangel> @SuzanneEvans1 @GillianMcKeith I think the UK Public Need &amp; Should Be Entitled to a Written (Or Able to Print Off) Weekly Update Relating to the Coronavirus Act in Layman's Terms as to What is Law and What is Guidance for their Own Protection !!\n1365617600739303427 2021-02-27 11:59:42 +0100 <njsangel> @GillianMcKeith I think the UK Public Need &amp; Should Be Entitled to a Written (Or Able to Print Off) Weekly Update Relating to the Coronavirus Act in Layman's Terms as to What is Law and What is Guidance for their Own Protection !!\n1365598442697940992 2021-02-27 10:43:34 +0100 <njsangel> @Curiousthough @freenationtoday @whodadaddi @CrimsonCode1 I think the UK Public Need &amp; Should Be Entitled to a Written (Or Able to Print Off) Weekly Update Relating to the Coronavirus Act in Layman's Terms as to What is Law and What is Guidance for their Own Protection !!\n1365598124845260803 2021-02-27 10:42:19 +0100 <njsangel> @SteveBakerHW @michaelgove I think the UK Public Need &amp; Should Be Entitled to a Written (Or Able to Print Off) Weekly Update Relating to the Coronavirus Act in Layman's Terms as to What is Law and What is Guidance for their Own Protection !!\n1365597974122889217 2021-02-27 10:41:43 +0100 <njsangel> @thereclaimparty @UsforThemUK I think the UK Public Need &amp; Should Be Entitled to a Written (Or Able to Print Off) Weekly Update Relating to the Coronavirus Act in Layman's Terms as to What is Law and What is Guidance for their Own Protection !!\n1365597508332879874 2021-02-27 10:39:52 +0100 <njsangel> @hartgroup_org @bmj_latest @UsforThemUK I think the UK Public Need &amp; Should Be Entitled to a Written (Or Able to Print Off) Weekly Update Relating to the Coronavirus Act in Layman's Terms as to What is Law and What is Guidance for their Own Protection !!\n1365597310303035393 2021-02-27 10:39:05 +0100 <njsangel> @GoodLawProject @Debbie_abrahams @CarolineLucas @LaylaMoran I think the UK Public Need &amp; Should Be Entitled to a Written (Or Able to Print Off) Weekly Update Relating to the Coronavirus Act in Layman's Terms as to What is Law and What is Guidance for their Own Protection !!\n1365597258180415491 2021-02-27 10:38:52 +0100 <njsangel> @davidschneider @GoodLawProject I think the UK Public Need &amp; Should Be Entitled to a Written (Or Able to Print Off) Weekly Update Relating to the Coronavirus Act in Layman's Terms as to What is Law and What is Guidance for their Own Protection !!\n1365596995092635650 2021-02-27 10:37:49 +0100 <njsangel> @laworfiction I think the UK Public Need &amp; Should Be Entitled to a Written (Or Able to Print Off) Weekly Update Relating to the Coronavirus Act in Layman's Terms as to What is Law and What is Guidance for their Own Protection !!\n1365596699981451264 2021-02-27 10:36:39 +0100 <njsangel> @BritainFree I think the UK Public Need &amp; Should Be Entitled to a Written (Or Able to Print Off) Weekly Update Relating to the Coronavirus Act in Layman's Terms as to What is Law and What is Guidance for their Own Protection !!\n1365595768392933377 2021-02-27 10:32:57 +0100 <njsangel> @Nigel_Farage @pritipatel I think the UK Public Need &amp; Should Be Entitled to a Written (Or Able to Print Off) Weekly Update Relating to the Coronavirus Act in Layman's Terms as to What is Law and What is Guidance for their Own Protection !!\n1365595434954153985 2021-02-27 10:31:37 +0100 <njsangel> @itvnews @GMB @MattHancock I think the UK Public Need &amp; Should Be Entitled to a Written (Or Able to Print Off) Weekly Update Relating to the Coronavirus Act in Layman's Terms as to What is Law and What is Guidance for their Own Protection !!\n1365595152828538880 2021-02-27 10:30:30 +0100 <njsangel> @BorisJohnson I think the UK Public Need &amp; Should Be Entitled to a Written (Or Able to Print Off) Weekly Update Relating to the Coronavirus Act in Layman's Terms as to What is Law and What is Guidance for their Own Protection !!\n1365594886356033537 2021-02-27 10:29:27 +0100 <njsangel> @EstherMcVey1 I think the UK Public Need &amp; Should Be Entitled to a Written (Or Able to Print Off) Weekly Update Relating to the Coronavirus Act in Layman's Terms as to What is Law and What is Guidance for their Own Protection !!\n1365594622806929409 2021-02-27 10:28:24 +0100 <njsangel> @LozzaFox I think the UK Public Need &amp; Should Be Entitled to a Written (Or Able to Print Off) Weekly Update Relating to the Coronavirus Act in Layman's Terms as to What is Law and What is Guidance for their Own Protection !!\n1365594604557332481 2021-02-27 10:28:19 +0100 <FaredDeen> Sistem kita dah lama dah sampah, cuma sebabkan coronavirus je baru tampak lebih jelas. What is new?\n1365587646165180417 2021-02-27 10:00:40 +0100 <EUmHealthHub> What is #Andrija? It is an #AI based digital personal assistant used to fight against #coronavirus. Andrija is used through @WhatsApp and it is an initiative of the Croatian Government, developed by Croatian IT companies (@croai) and epidemiologists.   https://t.co/iAQWbG7pF0  https://t.co/OYYoAC9K2R\n1365584416433704960 2021-02-27 09:47:50 +0100 <njsangel> @Unlocked_UK_ @MartinDaubney I think the UK Public Need &amp; Should Be Entitled to a Written (Or Able to Print Off) Weekly Update Relating to the Coronavirus Act in Layman's Terms as to What is Law and What is Guidance for their Own Protection !!\n1365583527329345539 2021-02-27 09:44:18 +0100 <njsangel> @PaulPay71986062 @Anshul__K @Sacha_Lord @EssexPR I think the UK Public Need &amp; Should Be Entitled to a Written (Or Able to Print Off) Weekly Update Relating to the Coronavirus Act in Layman's Terms as to What is Law and What is Guidance for their Own Protection !!\n1365583295073902593 2021-02-27 09:43:23 +0100 <njsangel> @EssexPR I think the UK Public Need &amp; Should Be Entitled to a Written (Or Able to Print Off) Weekly Update Relating to the Coronavirus Act in Layman's Terms as to What is Law and What is Guidance for their Own Protection !!\n1365582951245901826 2021-02-27 09:42:01 +0100 <njsangel> I think the UK Public Need &amp; Should Be Entitled to a Written (Or Able to Print Off) Weekly Update Relating to the Coronavirus Act in Layman's Terms as to What is Law and What is Guidance for their Own Protection !!\n1365582553525190656 2021-02-27 09:40:26 +0100 <njsangel> @AdamAfriyie I think the UK Public Need &amp; Should Be Entitled to a Written (Or Able to Print Off) Weekly Update Relating to the Coronavirus Act in Layman's Terms as to What is Law and What is Guidance for their Own Protection !!\n1365582379180515329 2021-02-27 09:39:45 +0100 <njsangel> @carlheneghan I think the UK Public Need &amp; Should Be Entitled to a Written (Or Able to Print Off) Weekly Update Relating to the Coronavirus Act in Layman's Terms as to What is Law and What is Guidance for their Own Protection !!\n1365582044131188736 2021-02-27 09:38:25 +0100 <njsangel> @BBCNews @BBCPolitics I think the UK Public Need &amp; Should Be Entitled to a Written (Or Able to Print Off) Weekly Update Relating to the Coronavirus Act in Layman's Terms as to What is Law and What is Guidance for their Own Protection !!\n1365581986056859650 2021-02-27 09:38:11 +0100 <njsangel> @BBCPolitics @nickeardleybbc I think the UK Public Need &amp; Should Be Entitled to a Written (Or Able to Print Off) Weekly Update Relating to the Coronavirus Act in Layman's Terms as to What is Law and What is Guidance for their Own Protection !!\n1365581927344988163 2021-02-27 09:37:57 +0100 <njsangel> @BBCPolitics @ChrisMasonBBC I think the UK Public Need &amp; Should Be Entitled to a Written (Or Able to Print Off) Weekly Update Relating to the Coronavirus Act in Layman's Terms as to What is Law and What is Guidance for their Own Protection !!\n1365581758087897093 2021-02-27 09:37:17 +0100 <havyatt> @bobmerlote @ellymelly Geez, I didn’t used to make any comment about Trump and the shaky hand etc. I am pretty sure he has a much better idea what is going on in the world at large than the previous President. For example, he doesn’t think Coronavirus will just ‘disappear.’\n1365581586834612227 2021-02-27 09:36:36 +0100 <njsangel> @BBCPanorama I think the UK Public Need &amp; Should Be Entitled to a Written (Or Able to Print Off) Weekly Update Relating to the Coronavirus Act in Layman's Terms as to What is Law and What is Guidance for their Own Protection !!\n1365581342696693761 2021-02-27 09:35:38 +0100 <njsangel> @talkRADIO @TVKev @CharlotteIvers I think the UK Public Need &amp; Should Be Entitled to a Written (Or Able to Print Off) Weekly Update Relating to the Coronavirus Act in Layman's Terms as to What is Law and What is Guidance for their Own Protection !!\n1365581109468286984 2021-02-27 09:34:42 +0100 <njsangel> @T4Recovery @BorisJohnson I think the UK Public Need &amp; Should Be Entitled to a Written (Or Able to Print Off) Weekly Update Relating to the Coronavirus Act in Layman's Terms as to What is Law and What is Guidance for their Own Protection !!\n1365580958469079047 2021-02-27 09:34:06 +0100 <njsangel> @LabCovRecovery @T4Recovery @unherd @freddiesayers I think the UK Public Need &amp; Should Be Entitled to a Written (Or Able to Print Off) Weekly Update Relating to the Coronavirus Act in Layman's Terms as to What is Law and What is Guidance for their Own Protection !!\n1365580607280082946 2021-02-27 09:32:42 +0100 <njsangel> @Unlocked_UK_ @BreesAnna @MartinDaubney I think the UK Public Need &amp; Should Be Entitled to a Written (Or Able to Print Off) Weekly Update Relating to the Coronavirus Act in Layman's Terms as to What is Law and What is Guidance for their Own Protection !!\n1365580376832409602 2021-02-27 09:31:47 +0100 <njsangel> @C0vid0 I think the UK Public Need &amp; Should Be Entitled to a Written (Or Able to Print Off) Weekly Update Relating to the Coronavirus Act in Layman's Terms as to What is Law and What is Guidance for their Own Protection !!\n1365580326077165569 2021-02-27 09:31:35 +0100 <njsangel> @C0vid0 I think the UK Public Need &amp; Should Be Entitled to a Written (Or Able to Print Off) Weekly Update Relating to the Coronavirus Act in Layman's Terms as to What is Law and What is Guidance for their Own Protection !!\n1365580080374759436 2021-02-27 09:30:37 +0100 <njsangel> @berniespofforth I think the UK Public Need &amp; Should Be Entitled to a Written (Or Able to Print Off) Weekly Update Relating to the Coronavirus Act in Layman's Terms as to What is Law and What is Guidance for their Own Protection !!\n1365580012095754242 2021-02-27 09:30:20 +0100 <njsangel> @2still_learning @dontbetyet I think the UK Public Need &amp; Should Be Entitled to a Written (Or Able to Print Off) Weekly Update Relating to the Coronavirus Act in Layman's Terms as to What is Law and What is Guidance for their Own Protection !!\n[+] Finished: Successfully collected 100 Tweets.\n"
     ]
    }
   ],
   "source": [
    "c = twint.Config()\n",
    "c.Search = 'What is coronavirus'\n",
    "c.Limit = 100\n",
    "c.Count = 100\n",
    "c.Output = 'tweets.csv'\n",
    "result = twint.run.Search(c)"
   ]
  },
  {
   "source": [
    "# Load the tweets as a dataframe and check for any required preprocessing"
   ],
   "cell_type": "markdown",
   "metadata": {}
  },
  {
   "cell_type": "code",
   "execution_count": 41,
   "metadata": {},
   "outputs": [],
   "source": [
    "df = pd.read_csv('tweets.csv', names=['tweet'], delimiter='\\n')"
   ]
  },
  {
   "cell_type": "code",
   "execution_count": 42,
   "metadata": {},
   "outputs": [
    {
     "output_type": "execute_result",
     "data": {
      "text/plain": [
       "                                               tweet\n",
       "0  1365808102075957249 2021-02-28 00:36:41 +0100 ...\n",
       "1  1365803961316483072 2021-02-28 00:20:14 +0100 ...\n",
       "2  1365803359035400194 2021-02-28 00:17:50 +0100 ...\n",
       "3  1365792324555599874 2021-02-27 23:34:00 +0100 ...\n",
       "4  1365782381031022600 2021-02-27 22:54:29 +0100 ..."
      ],
      "text/html": "<div>\n<style scoped>\n    .dataframe tbody tr th:only-of-type {\n        vertical-align: middle;\n    }\n\n    .dataframe tbody tr th {\n        vertical-align: top;\n    }\n\n    .dataframe thead th {\n        text-align: right;\n    }\n</style>\n<table border=\"1\" class=\"dataframe\">\n  <thead>\n    <tr style=\"text-align: right;\">\n      <th></th>\n      <th>tweet</th>\n    </tr>\n  </thead>\n  <tbody>\n    <tr>\n      <th>0</th>\n      <td>1365808102075957249 2021-02-28 00:36:41 +0100 ...</td>\n    </tr>\n    <tr>\n      <th>1</th>\n      <td>1365803961316483072 2021-02-28 00:20:14 +0100 ...</td>\n    </tr>\n    <tr>\n      <th>2</th>\n      <td>1365803359035400194 2021-02-28 00:17:50 +0100 ...</td>\n    </tr>\n    <tr>\n      <th>3</th>\n      <td>1365792324555599874 2021-02-27 23:34:00 +0100 ...</td>\n    </tr>\n    <tr>\n      <th>4</th>\n      <td>1365782381031022600 2021-02-27 22:54:29 +0100 ...</td>\n    </tr>\n  </tbody>\n</table>\n</div>"
     },
     "metadata": {},
     "execution_count": 42
    }
   ],
   "source": [
    "df.head()"
   ]
  },
  {
   "source": [
    "# Use regex to remove tweet ID, date, time, user, and mentions - extract ONLY  the tweet content"
   ],
   "cell_type": "markdown",
   "metadata": {}
  },
  {
   "cell_type": "code",
   "execution_count": 43,
   "metadata": {},
   "outputs": [],
   "source": [
    "df['tweet'] = df['tweet'].str.replace(r\"(\\d+)|([--])|([::])|([+])|(<\\S+)|(@\\S+)|\", \"\")"
   ]
  },
  {
   "cell_type": "code",
   "execution_count": 44,
   "metadata": {},
   "outputs": [
    {
     "output_type": "execute_result",
     "data": {
      "text/plain": [
       "                                               tweet\n",
       "0          So what is coronavirus and where did i...\n",
       "1       What is happening in the #NBA with race. ...\n",
       "2           I'll trust my immune system thanks. S...\n",
       "3       What makes #coronavirus containment measu...\n",
       "4        Thank you. I hope better times will come..."
      ],
      "text/html": "<div>\n<style scoped>\n    .dataframe tbody tr th:only-of-type {\n        vertical-align: middle;\n    }\n\n    .dataframe tbody tr th {\n        vertical-align: top;\n    }\n\n    .dataframe thead th {\n        text-align: right;\n    }\n</style>\n<table border=\"1\" class=\"dataframe\">\n  <thead>\n    <tr style=\"text-align: right;\">\n      <th></th>\n      <th>tweet</th>\n    </tr>\n  </thead>\n  <tbody>\n    <tr>\n      <th>0</th>\n      <td>So what is coronavirus and where did i...</td>\n    </tr>\n    <tr>\n      <th>1</th>\n      <td>What is happening in the #NBA with race. ...</td>\n    </tr>\n    <tr>\n      <th>2</th>\n      <td>I'll trust my immune system thanks. S...</td>\n    </tr>\n    <tr>\n      <th>3</th>\n      <td>What makes #coronavirus containment measu...</td>\n    </tr>\n    <tr>\n      <th>4</th>\n      <td>Thank you. I hope better times will come...</td>\n    </tr>\n  </tbody>\n</table>\n</div>"
     },
     "metadata": {},
     "execution_count": 44
    }
   ],
   "source": [
    "df.head()"
   ]
  },
  {
   "source": [
    "# Remove whitespaces in the beginning"
   ],
   "cell_type": "markdown",
   "metadata": {}
  },
  {
   "cell_type": "code",
   "execution_count": 45,
   "metadata": {},
   "outputs": [],
   "source": [
    "df['tweet'] = df['tweet'].str.replace(r\"^\\s+\", \"\")"
   ]
  },
  {
   "cell_type": "code",
   "execution_count": 46,
   "metadata": {},
   "outputs": [
    {
     "output_type": "execute_result",
     "data": {
      "text/plain": [
       "                                               tweet\n",
       "0  So what is coronavirus and where did it came f...\n",
       "1  What is happening in the #NBA with race. Jerem...\n",
       "2  I'll trust my immune system thanks. So what is...\n",
       "3  What makes #coronavirus containment measures s...\n",
       "4  Thank you. I hope better times will come.  Wha..."
      ],
      "text/html": "<div>\n<style scoped>\n    .dataframe tbody tr th:only-of-type {\n        vertical-align: middle;\n    }\n\n    .dataframe tbody tr th {\n        vertical-align: top;\n    }\n\n    .dataframe thead th {\n        text-align: right;\n    }\n</style>\n<table border=\"1\" class=\"dataframe\">\n  <thead>\n    <tr style=\"text-align: right;\">\n      <th></th>\n      <th>tweet</th>\n    </tr>\n  </thead>\n  <tbody>\n    <tr>\n      <th>0</th>\n      <td>So what is coronavirus and where did it came f...</td>\n    </tr>\n    <tr>\n      <th>1</th>\n      <td>What is happening in the #NBA with race. Jerem...</td>\n    </tr>\n    <tr>\n      <th>2</th>\n      <td>I'll trust my immune system thanks. So what is...</td>\n    </tr>\n    <tr>\n      <th>3</th>\n      <td>What makes #coronavirus containment measures s...</td>\n    </tr>\n    <tr>\n      <th>4</th>\n      <td>Thank you. I hope better times will come.  Wha...</td>\n    </tr>\n  </tbody>\n</table>\n</div>"
     },
     "metadata": {},
     "execution_count": 46
    }
   ],
   "source": [
    "df.head()"
   ]
  },
  {
   "source": [
    "# Load the vectorizer and classifier to transform and load into the model"
   ],
   "cell_type": "markdown",
   "metadata": {}
  },
  {
   "cell_type": "code",
   "execution_count": 47,
   "metadata": {},
   "outputs": [],
   "source": [
    "x = df['tweet']\n",
    "\n",
    "vectorizer = pickle.load(open('model/vectorizer.pickle', 'rb'))\n",
    "x_test = vectorizer.transform(x).toarray()\n",
    "\n",
    "model = pickle.load(open('model/classifier.pickle', 'rb'))"
   ]
  },
  {
   "source": [
    "# Make sentiment prediction"
   ],
   "cell_type": "markdown",
   "metadata": {}
  },
  {
   "cell_type": "code",
   "execution_count": 48,
   "metadata": {},
   "outputs": [
    {
     "output_type": "execute_result",
     "data": {
      "text/plain": [
       "array([0, 0, 0, ..., 2, 2, 2], dtype=int64)"
      ]
     },
     "metadata": {},
     "execution_count": 48
    }
   ],
   "source": [
    "predictions = model.predict(x_test)\n",
    "predictions"
   ]
  },
  {
   "cell_type": "code",
   "execution_count": 49,
   "metadata": {},
   "outputs": [
    {
     "output_type": "stream",
     "name": "stdout",
     "text": [
      "Percent of positive sentiment: 19.97%\nPercent of negative sentiment: 80.03%\n"
     ]
    }
   ],
   "source": [
    "positive_percentage = 100*sum(predictions==2) / len(predictions)\n",
    "negative_percentage = 100*sum(predictions==0) / len(predictions)\n",
    "print('Percent of positive sentiment: {:.2f}%'.format(positive_percentage))\n",
    "print('Percent of negative sentiment: {:.2f}%'.format(negative_percentage))"
   ]
  },
  {
   "cell_type": "code",
   "execution_count": null,
   "metadata": {},
   "outputs": [],
   "source": []
  }
 ]
}